{
    "nbformat_minor": 1, 
    "cells": [
        {
            "source": "## Classification Model with keras", 
            "cell_type": "markdown", 
            "metadata": {}
        }, 
        {
            "source": "Importing Keras and Packages", 
            "cell_type": "markdown", 
            "metadata": {}
        }, 
        {
            "execution_count": 3, 
            "cell_type": "code", 
            "metadata": {}, 
            "outputs": [], 
            "source": "import keras\n\nfrom keras.models import Sequential\nfrom keras.layers import Dense\nfrom keras.utils import to_categorical"
        }, 
        {
            "execution_count": 4, 
            "cell_type": "code", 
            "metadata": {}, 
            "outputs": [], 
            "source": "import matplotlib.pyplot as plt"
        }, 
        {
            "source": "Loading the MNIST data", 
            "cell_type": "markdown", 
            "metadata": {}
        }, 
        {
            "execution_count": 5, 
            "cell_type": "code", 
            "metadata": {}, 
            "outputs": [], 
            "source": "from keras.datasets import mnist"
        }, 
        {
            "execution_count": 6, 
            "cell_type": "code", 
            "metadata": {}, 
            "outputs": [
                {
                    "output_type": "stream", 
                    "name": "stdout", 
                    "text": "Downloading data from https://s3.amazonaws.com/img-datasets/mnist.npz\n11493376/11490434 [==============================] - 0s 0us/step\n"
                }
            ], 
            "source": "# read the data\n(X_train, y_train), (X_test, y_test) = mnist.load_data()"
        }, 
        {
            "execution_count": 7, 
            "cell_type": "code", 
            "metadata": {}, 
            "outputs": [
                {
                    "execution_count": 7, 
                    "metadata": {}, 
                    "data": {
                        "text/plain": "(60000, 28, 28)"
                    }, 
                    "output_type": "execute_result"
                }
            ], 
            "source": "X_train.shape"
        }, 
        {
            "execution_count": 14, 
            "cell_type": "code", 
            "metadata": {}, 
            "outputs": [
                {
                    "execution_count": 14, 
                    "metadata": {}, 
                    "data": {
                        "text/plain": "<matplotlib.image.AxesImage at 0x7ff160fa8c88>"
                    }, 
                    "output_type": "execute_result"
                }, 
                {
                    "output_type": "display_data", 
                    "data": {
                        "image/png": "[encoded data removed]", 
                        "text/plain": "<matplotlib.figure.Figure at 0x7ff161026ba8>"
                    }, 
                    "metadata": {}
                }
            ], 
            "source": "# Let's visualize the 221th image from training dataset\nplt.imshow(X_train[220])"
        }, 
        {
            "source": "<br></br>\n### Flattening images into one dimentional vector from size 60,000X(28 X 28) to 60,000X(784)", 
            "cell_type": "markdown", 
            "metadata": {}
        }, 
        {
            "execution_count": 15, 
            "cell_type": "code", 
            "metadata": {}, 
            "outputs": [], 
            "source": "num_pixels = X_train.shape[1] * X_train.shape[2] # finding size of 1D vector\n\nX_train = X_train.reshape(X_train.shape[0], num_pixels).astype('float32')\nX_test = X_test.reshape(X_test.shape[0], num_pixels).astype('float32')"
        }, 
        {
            "execution_count": 16, 
            "cell_type": "code", 
            "metadata": {}, 
            "outputs": [], 
            "source": "# normalizing inputs from 0-255 to 0-1\nX_train = X_train / 255\nX_test = X_test / 255"
        }, 
        {
            "execution_count": 21, 
            "cell_type": "code", 
            "metadata": {}, 
            "outputs": [
                {
                    "execution_count": 21, 
                    "metadata": {}, 
                    "data": {
                        "text/plain": "array([5, 0, 4, 1, 9, 2, 1, 3, 1, 4], dtype=uint8)"
                    }, 
                    "output_type": "execute_result"
                }
            ], 
            "source": "# y_train\ny_train[0:10,]"
        }, 
        {
            "execution_count": 23, 
            "cell_type": "code", 
            "metadata": {}, 
            "outputs": [
                {
                    "execution_count": 23, 
                    "metadata": {}, 
                    "data": {
                        "text/plain": "(60000, 10)"
                    }, 
                    "output_type": "execute_result"
                }
            ], 
            "source": "# dividing our target variable into categorial variable\ny_train =  to_categorical(y_train)\ny_test = to_categorical(y_test)\n\ny_train.shape"
        }, 
        {
            "execution_count": 24, 
            "cell_type": "code", 
            "metadata": {}, 
            "outputs": [], 
            "source": "num_classes = 10"
        }, 
        {
            "source": "## Building a Neural Network", 
            "cell_type": "markdown", 
            "metadata": {}
        }, 
        {
            "execution_count": 26, 
            "cell_type": "code", 
            "metadata": {}, 
            "outputs": [], 
            "source": "model = Sequential()\nmodel.add(Dense(num_pixels, activation='relu', input_shape=(num_pixels,)))\nmodel.add(Dense(100, activation='relu'))\nmodel.add(Dense(num_classes, activation='softmax'))"
        }, 
        {
            "execution_count": 27, 
            "cell_type": "code", 
            "metadata": {}, 
            "outputs": [], 
            "source": "# compile model\nmodel.compile(optimizer='adam', loss='categorical_crossentropy', metrics=['accuracy'])"
        }, 
        {
            "source": "Train and Test the network", 
            "cell_type": "markdown", 
            "metadata": {}
        }, 
        {
            "execution_count": 28, 
            "cell_type": "code", 
            "metadata": {}, 
            "outputs": [
                {
                    "output_type": "stream", 
                    "name": "stdout", 
                    "text": "Train on 60000 samples, validate on 10000 samples\nEpoch 1/10\n - 198s - loss: 0.1900 - acc: 0.9427 - val_loss: 0.1032 - val_acc: 0.9697\nEpoch 2/10\n - 207s - loss: 0.0810 - acc: 0.9748 - val_loss: 0.0846 - val_acc: 0.9725\nEpoch 3/10\n - 196s - loss: 0.0551 - acc: 0.9823 - val_loss: 0.0738 - val_acc: 0.9771\nEpoch 4/10\n - 191s - loss: 0.0395 - acc: 0.9871 - val_loss: 0.0698 - val_acc: 0.9815\nEpoch 5/10\n - 155s - loss: 0.0339 - acc: 0.9888 - val_loss: 0.0878 - val_acc: 0.9760\nEpoch 6/10\n - 152s - loss: 0.0270 - acc: 0.9912 - val_loss: 0.0903 - val_acc: 0.9760\nEpoch 7/10\n - 161s - loss: 0.0246 - acc: 0.9921 - val_loss: 0.0915 - val_acc: 0.9779\nEpoch 8/10\n - 155s - loss: 0.0199 - acc: 0.9935 - val_loss: 0.0729 - val_acc: 0.9819\nEpoch 9/10\n - 158s - loss: 0.0152 - acc: 0.9953 - val_loss: 0.0896 - val_acc: 0.9811\nEpoch 10/10\n - 196s - loss: 0.0166 - acc: 0.9945 - val_loss: 0.1048 - val_acc: 0.9787\n"
                }, 
                {
                    "execution_count": 28, 
                    "metadata": {}, 
                    "data": {
                        "text/plain": "<keras.callbacks.History at 0x7ff16bfe8d30>"
                    }, 
                    "output_type": "execute_result"
                }
            ], 
            "source": "# fit the model\nmodel.fit(X_train, y_train, validation_data=(X_test, y_test), epochs=10, verbose=2 )"
        }, 
        {
            "execution_count": 29, 
            "cell_type": "code", 
            "metadata": {}, 
            "outputs": [
                {
                    "output_type": "stream", 
                    "name": "stdout", 
                    "text": "10000/10000 [==============================] - 7s 713us/step\n"
                }
            ], 
            "source": "scores = model.evaluate(X_test, y_test, verbose = 1)"
        }, 
        {
            "execution_count": 30, 
            "cell_type": "code", 
            "metadata": {}, 
            "outputs": [
                {
                    "output_type": "stream", 
                    "name": "stdout", 
                    "text": "Accuracy: 0.9787\nError: 0.021299999999999986\n"
                }
            ], 
            "source": "# printing the accuracy and the correspoding error \n\nprint('Accuracy: {}\\nError: {}'.format(scores[1], 1 - scores[1]))"
        }, 
        {
            "execution_count": 31, 
            "cell_type": "code", 
            "metadata": {}, 
            "outputs": [], 
            "source": "# saving our model after training\nmodel.save('classification_model.h5')"
        }
    ], 
    "metadata": {
        "kernelspec": {
            "display_name": "Python 3.5", 
            "name": "python3", 
            "language": "python"
        }, 
        "language_info": {
            "mimetype": "text/x-python", 
            "nbconvert_exporter": "python", 
            "version": "3.5.5", 
            "name": "python", 
            "file_extension": ".py", 
            "pygments_lexer": "ipython3", 
            "codemirror_mode": {
                "version": 3, 
                "name": "ipython"
            }
        }
    }, 
    "nbformat": 4
}