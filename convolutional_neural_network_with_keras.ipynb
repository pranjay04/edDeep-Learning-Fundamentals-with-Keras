{
    "nbformat_minor": 1, 
    "cells": [
        {
            "source": "## Convolutional Neural Network with Keras", 
            "cell_type": "markdown", 
            "metadata": {
                "collapsed": true
            }
        }, 
        {
            "execution_count": 1, 
            "cell_type": "code", 
            "metadata": {}, 
            "outputs": [
                {
                    "output_type": "stream", 
                    "name": "stderr", 
                    "text": "Using TensorFlow backend.\n"
                }
            ], 
            "source": "# importing Keras and other packages\nimport keras\nfrom keras.models import Sequential\nfrom keras.layers import Dense\nfrom keras.utils import to_categorical\n\nfrom keras.layers.convolutional import Conv2D # to add convolutional layers\nfrom keras.layers.convolutional import MaxPooling2D # to add polling layers\nfrom keras.layers import Flatten # to flatten data for fully connected layers"
        }, 
        {
            "source": "### Convolutional Layers with two sets of convolutional and pooling layers", 
            "cell_type": "markdown", 
            "metadata": {}
        }, 
        {
            "execution_count": 2, 
            "cell_type": "code", 
            "metadata": {}, 
            "outputs": [], 
            "source": "# importing data\nfrom keras.datasets import mnist\n\n# Loading data\n(X_train, y_train), (X_test, y_test) = mnist.load_data()\n\n# reshape to be [samples][pixels][width][height]\nX_train = X_train.reshape(X_train.shape[0], 28, 28, 1).astype('float')\nX_test = X_test.reshape(X_test.shape[0], 28, 28, 1).astype('float')"
        }, 
        {
            "source": "### Let's normalize the pixel values to be between 0 and 1", 
            "cell_type": "markdown", 
            "metadata": {}
        }, 
        {
            "execution_count": 3, 
            "cell_type": "code", 
            "metadata": {}, 
            "outputs": [], 
            "source": "X_train = X_train / 255\nX_test = X_test / 255"
        }, 
        {
            "source": "### Converting target variables into binary categories", 
            "cell_type": "markdown", 
            "metadata": {}
        }, 
        {
            "execution_count": 4, 
            "cell_type": "code", 
            "metadata": {}, 
            "outputs": [], 
            "source": "y_train = to_categorical(y_train)\ny_test = to_categorical(y_test)"
        }, 
        {
            "execution_count": 5, 
            "cell_type": "code", 
            "metadata": {}, 
            "outputs": [], 
            "source": "n_classes = y_test.shape[1] # number of categories"
        }, 
        {
            "source": "## Creating our model", 
            "cell_type": "markdown", 
            "metadata": {}
        }, 
        {
            "execution_count": 6, 
            "cell_type": "code", 
            "metadata": {}, 
            "outputs": [], 
            "source": "model = Sequential()\nmodel.add(Conv2D(16, (5, 5), strides=(1, 1), activation='relu', input_shape=(28, 28, 1)))\nmodel.add(MaxPooling2D(pool_size=(2, 2), strides=(2, 2)))\nmodel.add(Flatten())\nmodel.add(Dense(100, activation='relu'))\nmodel.add(Dense(n_classes, activation='softmax'))\nmodel.compile(optimizer='adam', loss='categorical_crossentropy', metrics=['accuracy'])"
        }, 
        {
            "execution_count": 7, 
            "cell_type": "code", 
            "metadata": {}, 
            "outputs": [
                {
                    "output_type": "stream", 
                    "name": "stdout", 
                    "text": "Train on 60000 samples, validate on 10000 samples\nEpoch 1/10\n - 74s - loss: 0.3049 - acc: 0.9183 - val_loss: 0.1077 - val_acc: 0.9688\nEpoch 2/10\n - 76s - loss: 0.0865 - acc: 0.9747 - val_loss: 0.0700 - val_acc: 0.9780\nEpoch 3/10\n - 77s - loss: 0.0601 - acc: 0.9822 - val_loss: 0.0491 - val_acc: 0.9841\nEpoch 4/10\n - 76s - loss: 0.0465 - acc: 0.9861 - val_loss: 0.0471 - val_acc: 0.9852\nEpoch 5/10\n - 75s - loss: 0.0384 - acc: 0.9884 - val_loss: 0.0387 - val_acc: 0.9866\nEpoch 6/10\n - 73s - loss: 0.0313 - acc: 0.9907 - val_loss: 0.0416 - val_acc: 0.9862\nEpoch 7/10\n - 71s - loss: 0.0280 - acc: 0.9913 - val_loss: 0.0385 - val_acc: 0.9871\nEpoch 8/10\n - 70s - loss: 0.0224 - acc: 0.9931 - val_loss: 0.0399 - val_acc: 0.9876\nEpoch 9/10\n - 72s - loss: 0.0189 - acc: 0.9946 - val_loss: 0.0373 - val_acc: 0.9878\nEpoch 10/10\n - 72s - loss: 0.0167 - acc: 0.9949 - val_loss: 0.0397 - val_acc: 0.9870\n"
                }, 
                {
                    "execution_count": 7, 
                    "metadata": {}, 
                    "data": {
                        "text/plain": "<keras.callbacks.History at 0x7f4272d571d0>"
                    }, 
                    "output_type": "execute_result"
                }
            ], 
            "source": "# fit the model\nmodel.fit(X_train, y_train, validation_data=(X_test, y_test), epochs=10, batch_size=200, verbose=2)"
        }, 
        {
            "source": "### Evaluate the model", 
            "cell_type": "markdown", 
            "metadata": {}
        }, 
        {
            "execution_count": 8, 
            "cell_type": "code", 
            "metadata": {}, 
            "outputs": [
                {
                    "output_type": "stream", 
                    "name": "stdout", 
                    "text": "10000/10000 [==============================] - 6s 611us/step\nAccuracy: 0.987 \nError: 0.013000000000000012\n"
                }
            ], 
            "source": "scores = model.evaluate(X_test, y_test, verbose=1)\nprint(\"Accuracy: {} \\nError: {}\".format(scores[1], 1-scores[1]))"
        }, 
        {
            "source": "### Convolutional Layer with two sets of convolutional and pooling layers", 
            "cell_type": "markdown", 
            "metadata": {}
        }, 
        {
            "execution_count": 9, 
            "cell_type": "code", 
            "metadata": {}, 
            "outputs": [], 
            "source": "# redefining our convolutional model so that\n# it has two convolutional and pooling layers\n# instead of just one layer of each\n\nmodel = Sequential()\nmodel.add(Conv2D(16, (5, 5), activation='relu', input_shape=(28, 28, 1)))\nmodel.add(MaxPooling2D(pool_size=(2, 2), strides=(2,2)))\nmodel.add(Conv2D(8, (2, 2), activation='relu'))\nmodel.add(MaxPooling2D(pool_size=(2, 2), strides=(2, 2)))\nmodel.add(Flatten())\nmodel.add(Dense(100, activation='relu'))\nmodel.add(Dense(n_classes, activation='softmax'))\nmodel.compile(optimizer='adam', loss='categorical_crossentropy', metrics=['accuracy'])"
        }, 
        {
            "execution_count": 10, 
            "cell_type": "code", 
            "metadata": {}, 
            "outputs": [
                {
                    "output_type": "stream", 
                    "name": "stdout", 
                    "text": "Train on 60000 samples, validate on 10000 samples\nEpoch 1/10\n - 65s - loss: 0.4592 - acc: 0.8694 - val_loss: 0.1292 - val_acc: 0.9601\nEpoch 2/10\n - 62s - loss: 0.1012 - acc: 0.9694 - val_loss: 0.0751 - val_acc: 0.9772\nEpoch 3/10\n - 69s - loss: 0.0745 - acc: 0.9776 - val_loss: 0.0620 - val_acc: 0.9794\nEpoch 4/10\n - 66s - loss: 0.0611 - acc: 0.9814 - val_loss: 0.0504 - val_acc: 0.9834\nEpoch 5/10\n - 67s - loss: 0.0534 - acc: 0.9839 - val_loss: 0.0480 - val_acc: 0.9844\nEpoch 6/10\n - 65s - loss: 0.0469 - acc: 0.9857 - val_loss: 0.0468 - val_acc: 0.9849\nEpoch 7/10\n - 66s - loss: 0.0424 - acc: 0.9873 - val_loss: 0.0485 - val_acc: 0.9845\nEpoch 8/10\n - 66s - loss: 0.0386 - acc: 0.9883 - val_loss: 0.0461 - val_acc: 0.9847\nEpoch 9/10\n - 66s - loss: 0.0350 - acc: 0.9897 - val_loss: 0.0381 - val_acc: 0.9879\nEpoch 10/10\n - 64s - loss: 0.0318 - acc: 0.9900 - val_loss: 0.0412 - val_acc: 0.9867\n"
                }, 
                {
                    "execution_count": 10, 
                    "metadata": {}, 
                    "data": {
                        "text/plain": "<keras.callbacks.History at 0x7f4272d45fd0>"
                    }, 
                    "output_type": "execute_result"
                }
            ], 
            "source": "# fit the mmodel\nmodel.fit(X_train, y_train, validation_data=(X_test, y_test), epochs=10, batch_size=200, verbose =2)"
        }, 
        {
            "execution_count": 12, 
            "cell_type": "code", 
            "metadata": {}, 
            "outputs": [
                {
                    "output_type": "stream", 
                    "name": "stdout", 
                    "text": "10000/10000 [==============================] - 6s 579us/step\nAccuracy: 0.9867 \nError: 0.013299999999999979\n"
                }
            ], 
            "source": "# evaluate the model\nscores = model.evaluate(X_test, y_test, verbose=1)\nprint(\"Accuracy: {} \\nError: {}\".format(scores[1], 1-scores[1]))"
        }, 
        {
            "execution_count": null, 
            "cell_type": "code", 
            "metadata": {}, 
            "outputs": [], 
            "source": ""
        }
    ], 
    "metadata": {
        "kernelspec": {
            "display_name": "Python 3.5", 
            "name": "python3", 
            "language": "python"
        }, 
        "language_info": {
            "mimetype": "text/x-python", 
            "nbconvert_exporter": "python", 
            "version": "3.5.5", 
            "name": "python", 
            "file_extension": ".py", 
            "pygments_lexer": "ipython3", 
            "codemirror_mode": {
                "version": 3, 
                "name": "ipython"
            }
        }
    }, 
    "nbformat": 4
}