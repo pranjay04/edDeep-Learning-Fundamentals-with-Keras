{
    "nbformat_minor": 1, 
    "cells": [
        {
            "source": "### Regression Model with keras", 
            "cell_type": "markdown", 
            "metadata": {
                "collapsed": true
            }
        }, 
        {
            "execution_count": 1, 
            "cell_type": "code", 
            "metadata": {}, 
            "outputs": [], 
            "source": "# importing numpy and pandas\nimport pandas as pd\nimport numpy as np"
        }, 
        {
            "source": "Let's download and read the data into a pandas dataframe.", 
            "cell_type": "markdown", 
            "metadata": {}
        }, 
        {
            "execution_count": 3, 
            "cell_type": "code", 
            "metadata": {}, 
            "outputs": [
                {
                    "execution_count": 3, 
                    "metadata": {}, 
                    "data": {
                        "text/html": "<div>\n<style scoped>\n    .dataframe tbody tr th:only-of-type {\n        vertical-align: middle;\n    }\n\n    .dataframe tbody tr th {\n        vertical-align: top;\n    }\n\n    .dataframe thead th {\n        text-align: right;\n    }\n</style>\n<table border=\"1\" class=\"dataframe\">\n  <thead>\n    <tr style=\"text-align: right;\">\n      <th></th>\n      <th>Cement</th>\n      <th>Blast Furnace Slag</th>\n      <th>Fly Ash</th>\n      <th>Water</th>\n      <th>Superplasticizer</th>\n      <th>Coarse Aggregate</th>\n      <th>Fine Aggregate</th>\n      <th>Age</th>\n      <th>Strength</th>\n    </tr>\n  </thead>\n  <tbody>\n    <tr>\n      <th>0</th>\n      <td>540.0</td>\n      <td>0.0</td>\n      <td>0.0</td>\n      <td>162.0</td>\n      <td>2.5</td>\n      <td>1040.0</td>\n      <td>676.0</td>\n      <td>28</td>\n      <td>79.99</td>\n    </tr>\n    <tr>\n      <th>1</th>\n      <td>540.0</td>\n      <td>0.0</td>\n      <td>0.0</td>\n      <td>162.0</td>\n      <td>2.5</td>\n      <td>1055.0</td>\n      <td>676.0</td>\n      <td>28</td>\n      <td>61.89</td>\n    </tr>\n    <tr>\n      <th>2</th>\n      <td>332.5</td>\n      <td>142.5</td>\n      <td>0.0</td>\n      <td>228.0</td>\n      <td>0.0</td>\n      <td>932.0</td>\n      <td>594.0</td>\n      <td>270</td>\n      <td>40.27</td>\n    </tr>\n    <tr>\n      <th>3</th>\n      <td>332.5</td>\n      <td>142.5</td>\n      <td>0.0</td>\n      <td>228.0</td>\n      <td>0.0</td>\n      <td>932.0</td>\n      <td>594.0</td>\n      <td>365</td>\n      <td>41.05</td>\n    </tr>\n    <tr>\n      <th>4</th>\n      <td>198.6</td>\n      <td>132.4</td>\n      <td>0.0</td>\n      <td>192.0</td>\n      <td>0.0</td>\n      <td>978.4</td>\n      <td>825.5</td>\n      <td>360</td>\n      <td>44.30</td>\n    </tr>\n    <tr>\n      <th>5</th>\n      <td>266.0</td>\n      <td>114.0</td>\n      <td>0.0</td>\n      <td>228.0</td>\n      <td>0.0</td>\n      <td>932.0</td>\n      <td>670.0</td>\n      <td>90</td>\n      <td>47.03</td>\n    </tr>\n    <tr>\n      <th>6</th>\n      <td>380.0</td>\n      <td>95.0</td>\n      <td>0.0</td>\n      <td>228.0</td>\n      <td>0.0</td>\n      <td>932.0</td>\n      <td>594.0</td>\n      <td>365</td>\n      <td>43.70</td>\n    </tr>\n    <tr>\n      <th>7</th>\n      <td>380.0</td>\n      <td>95.0</td>\n      <td>0.0</td>\n      <td>228.0</td>\n      <td>0.0</td>\n      <td>932.0</td>\n      <td>594.0</td>\n      <td>28</td>\n      <td>36.45</td>\n    </tr>\n  </tbody>\n</table>\n</div>", 
                        "text/plain": "   Cement  Blast Furnace Slag  Fly Ash  Water  Superplasticizer  \\\n0   540.0                 0.0      0.0  162.0               2.5   \n1   540.0                 0.0      0.0  162.0               2.5   \n2   332.5               142.5      0.0  228.0               0.0   \n3   332.5               142.5      0.0  228.0               0.0   \n4   198.6               132.4      0.0  192.0               0.0   \n5   266.0               114.0      0.0  228.0               0.0   \n6   380.0                95.0      0.0  228.0               0.0   \n7   380.0                95.0      0.0  228.0               0.0   \n\n   Coarse Aggregate  Fine Aggregate  Age  Strength  \n0            1040.0           676.0   28     79.99  \n1            1055.0           676.0   28     61.89  \n2             932.0           594.0  270     40.27  \n3             932.0           594.0  365     41.05  \n4             978.4           825.5  360     44.30  \n5             932.0           670.0   90     47.03  \n6             932.0           594.0  365     43.70  \n7             932.0           594.0   28     36.45  "
                    }, 
                    "output_type": "execute_result"
                }
            ], 
            "source": "concrete_data = pd.read_csv('https://ibm.box.com/shared/static/svl8tu7cmod6tizo6rk0ke4sbuhtpdfx.csv')\nconcrete_data.head(8)"
        }, 
        {
            "source": "The above dataset is about the compressive strength of different samples of concrete based on the volumes of the different materials that were used to make them", 
            "cell_type": "markdown", 
            "metadata": {}
        }, 
        {
            "execution_count": 5, 
            "cell_type": "code", 
            "metadata": {}, 
            "outputs": [
                {
                    "execution_count": 5, 
                    "metadata": {}, 
                    "data": {
                        "text/plain": "(1030, 9)"
                    }, 
                    "output_type": "execute_result"
                }
            ], 
            "source": "# Check on shape of the data\nconcrete_data.shape"
        }, 
        {
            "execution_count": 6, 
            "cell_type": "code", 
            "metadata": {}, 
            "outputs": [
                {
                    "execution_count": 6, 
                    "metadata": {}, 
                    "data": {
                        "text/html": "<div>\n<style scoped>\n    .dataframe tbody tr th:only-of-type {\n        vertical-align: middle;\n    }\n\n    .dataframe tbody tr th {\n        vertical-align: top;\n    }\n\n    .dataframe thead th {\n        text-align: right;\n    }\n</style>\n<table border=\"1\" class=\"dataframe\">\n  <thead>\n    <tr style=\"text-align: right;\">\n      <th></th>\n      <th>Cement</th>\n      <th>Blast Furnace Slag</th>\n      <th>Fly Ash</th>\n      <th>Water</th>\n      <th>Superplasticizer</th>\n      <th>Coarse Aggregate</th>\n      <th>Fine Aggregate</th>\n      <th>Age</th>\n      <th>Strength</th>\n    </tr>\n  </thead>\n  <tbody>\n    <tr>\n      <th>count</th>\n      <td>1030.000000</td>\n      <td>1030.000000</td>\n      <td>1030.000000</td>\n      <td>1030.000000</td>\n      <td>1030.000000</td>\n      <td>1030.000000</td>\n      <td>1030.000000</td>\n      <td>1030.000000</td>\n      <td>1030.000000</td>\n    </tr>\n    <tr>\n      <th>mean</th>\n      <td>281.167864</td>\n      <td>73.895825</td>\n      <td>54.188350</td>\n      <td>181.567282</td>\n      <td>6.204660</td>\n      <td>972.918932</td>\n      <td>773.580485</td>\n      <td>45.662136</td>\n      <td>35.817961</td>\n    </tr>\n    <tr>\n      <th>std</th>\n      <td>104.506364</td>\n      <td>86.279342</td>\n      <td>63.997004</td>\n      <td>21.354219</td>\n      <td>5.973841</td>\n      <td>77.753954</td>\n      <td>80.175980</td>\n      <td>63.169912</td>\n      <td>16.705742</td>\n    </tr>\n    <tr>\n      <th>min</th>\n      <td>102.000000</td>\n      <td>0.000000</td>\n      <td>0.000000</td>\n      <td>121.800000</td>\n      <td>0.000000</td>\n      <td>801.000000</td>\n      <td>594.000000</td>\n      <td>1.000000</td>\n      <td>2.330000</td>\n    </tr>\n    <tr>\n      <th>25%</th>\n      <td>192.375000</td>\n      <td>0.000000</td>\n      <td>0.000000</td>\n      <td>164.900000</td>\n      <td>0.000000</td>\n      <td>932.000000</td>\n      <td>730.950000</td>\n      <td>7.000000</td>\n      <td>23.710000</td>\n    </tr>\n    <tr>\n      <th>50%</th>\n      <td>272.900000</td>\n      <td>22.000000</td>\n      <td>0.000000</td>\n      <td>185.000000</td>\n      <td>6.400000</td>\n      <td>968.000000</td>\n      <td>779.500000</td>\n      <td>28.000000</td>\n      <td>34.445000</td>\n    </tr>\n    <tr>\n      <th>75%</th>\n      <td>350.000000</td>\n      <td>142.950000</td>\n      <td>118.300000</td>\n      <td>192.000000</td>\n      <td>10.200000</td>\n      <td>1029.400000</td>\n      <td>824.000000</td>\n      <td>56.000000</td>\n      <td>46.135000</td>\n    </tr>\n    <tr>\n      <th>max</th>\n      <td>540.000000</td>\n      <td>359.400000</td>\n      <td>200.100000</td>\n      <td>247.000000</td>\n      <td>32.200000</td>\n      <td>1145.000000</td>\n      <td>992.600000</td>\n      <td>365.000000</td>\n      <td>82.600000</td>\n    </tr>\n  </tbody>\n</table>\n</div>", 
                        "text/plain": "            Cement  Blast Furnace Slag      Fly Ash        Water  \\\ncount  1030.000000         1030.000000  1030.000000  1030.000000   \nmean    281.167864           73.895825    54.188350   181.567282   \nstd     104.506364           86.279342    63.997004    21.354219   \nmin     102.000000            0.000000     0.000000   121.800000   \n25%     192.375000            0.000000     0.000000   164.900000   \n50%     272.900000           22.000000     0.000000   185.000000   \n75%     350.000000          142.950000   118.300000   192.000000   \nmax     540.000000          359.400000   200.100000   247.000000   \n\n       Superplasticizer  Coarse Aggregate  Fine Aggregate          Age  \\\ncount       1030.000000       1030.000000     1030.000000  1030.000000   \nmean           6.204660        972.918932      773.580485    45.662136   \nstd            5.973841         77.753954       80.175980    63.169912   \nmin            0.000000        801.000000      594.000000     1.000000   \n25%            0.000000        932.000000      730.950000     7.000000   \n50%            6.400000        968.000000      779.500000    28.000000   \n75%           10.200000       1029.400000      824.000000    56.000000   \nmax           32.200000       1145.000000      992.600000   365.000000   \n\n          Strength  \ncount  1030.000000  \nmean     35.817961  \nstd      16.705742  \nmin       2.330000  \n25%      23.710000  \n50%      34.445000  \n75%      46.135000  \nmax      82.600000  "
                    }, 
                    "output_type": "execute_result"
                }
            ], 
            "source": "concrete_data.describe()"
        }, 
        {
            "source": "<br></br>\n#### Looking out for null values", 
            "cell_type": "markdown", 
            "metadata": {}
        }, 
        {
            "execution_count": 7, 
            "cell_type": "code", 
            "metadata": {}, 
            "outputs": [
                {
                    "execution_count": 7, 
                    "metadata": {}, 
                    "data": {
                        "text/plain": "Cement                0\nBlast Furnace Slag    0\nFly Ash               0\nWater                 0\nSuperplasticizer      0\nCoarse Aggregate      0\nFine Aggregate        0\nAge                   0\nStrength              0\ndtype: int64"
                    }, 
                    "output_type": "execute_result"
                }
            ], 
            "source": "concrete_data.isnull().sum()"
        }, 
        {
            "source": "#### The data is clean", 
            "cell_type": "markdown", 
            "metadata": {}
        }, 
        {
            "source": "## Dividing data into predictors and targets", 
            "cell_type": "markdown", 
            "metadata": {}
        }, 
        {
            "execution_count": 11, 
            "cell_type": "code", 
            "metadata": {}, 
            "outputs": [
                {
                    "output_type": "display_data", 
                    "data": {
                        "text/plain": "Index(['Cement', 'Blast Furnace Slag', 'Fly Ash', 'Water', 'Superplasticizer',\n       'Coarse Aggregate', 'Fine Aggregate', 'Age', 'Strength'],\n      dtype='object')"
                    }, 
                    "metadata": {}
                }
            ], 
            "source": "concrete_data_columns = concrete_data.columns\ndisplay(concrete_data_columns)"
        }, 
        {
            "execution_count": 12, 
            "cell_type": "code", 
            "metadata": {}, 
            "outputs": [], 
            "source": "predictors = concrete_data[concrete_data_columns[concrete_data_columns != 'Strength']]\ntarget = concrete_data['Strength']"
        }, 
        {
            "execution_count": 14, 
            "cell_type": "code", 
            "metadata": {}, 
            "outputs": [
                {
                    "execution_count": 14, 
                    "metadata": {}, 
                    "data": {
                        "text/html": "<div>\n<style scoped>\n    .dataframe tbody tr th:only-of-type {\n        vertical-align: middle;\n    }\n\n    .dataframe tbody tr th {\n        vertical-align: top;\n    }\n\n    .dataframe thead th {\n        text-align: right;\n    }\n</style>\n<table border=\"1\" class=\"dataframe\">\n  <thead>\n    <tr style=\"text-align: right;\">\n      <th></th>\n      <th>Cement</th>\n      <th>Blast Furnace Slag</th>\n      <th>Fly Ash</th>\n      <th>Water</th>\n      <th>Superplasticizer</th>\n      <th>Coarse Aggregate</th>\n      <th>Fine Aggregate</th>\n      <th>Age</th>\n    </tr>\n  </thead>\n  <tbody>\n    <tr>\n      <th>1025</th>\n      <td>276.4</td>\n      <td>116.0</td>\n      <td>90.3</td>\n      <td>179.6</td>\n      <td>8.9</td>\n      <td>870.1</td>\n      <td>768.3</td>\n      <td>28</td>\n    </tr>\n    <tr>\n      <th>1026</th>\n      <td>322.2</td>\n      <td>0.0</td>\n      <td>115.6</td>\n      <td>196.0</td>\n      <td>10.4</td>\n      <td>817.9</td>\n      <td>813.4</td>\n      <td>28</td>\n    </tr>\n    <tr>\n      <th>1027</th>\n      <td>148.5</td>\n      <td>139.4</td>\n      <td>108.6</td>\n      <td>192.7</td>\n      <td>6.1</td>\n      <td>892.4</td>\n      <td>780.0</td>\n      <td>28</td>\n    </tr>\n    <tr>\n      <th>1028</th>\n      <td>159.1</td>\n      <td>186.7</td>\n      <td>0.0</td>\n      <td>175.6</td>\n      <td>11.3</td>\n      <td>989.6</td>\n      <td>788.9</td>\n      <td>28</td>\n    </tr>\n    <tr>\n      <th>1029</th>\n      <td>260.9</td>\n      <td>100.5</td>\n      <td>78.3</td>\n      <td>200.6</td>\n      <td>8.6</td>\n      <td>864.5</td>\n      <td>761.5</td>\n      <td>28</td>\n    </tr>\n  </tbody>\n</table>\n</div>", 
                        "text/plain": "      Cement  Blast Furnace Slag  Fly Ash  Water  Superplasticizer  \\\n1025   276.4               116.0     90.3  179.6               8.9   \n1026   322.2                 0.0    115.6  196.0              10.4   \n1027   148.5               139.4    108.6  192.7               6.1   \n1028   159.1               186.7      0.0  175.6              11.3   \n1029   260.9               100.5     78.3  200.6               8.6   \n\n      Coarse Aggregate  Fine Aggregate  Age  \n1025             870.1           768.3   28  \n1026             817.9           813.4   28  \n1027             892.4           780.0   28  \n1028             989.6           788.9   28  \n1029             864.5           761.5   28  "
                    }, 
                    "output_type": "execute_result"
                }
            ], 
            "source": "predictors.tail()"
        }, 
        {
            "execution_count": 15, 
            "cell_type": "code", 
            "metadata": {}, 
            "outputs": [
                {
                    "execution_count": 15, 
                    "metadata": {}, 
                    "data": {
                        "text/plain": "1025    44.28\n1026    31.18\n1027    23.70\n1028    32.77\n1029    32.40\nName: Strength, dtype: float64"
                    }, 
                    "output_type": "execute_result"
                }
            ], 
            "source": "target.tail()"
        }, 
        {
            "source": "## Normalizing the data by subtracting the mean and dividing by the standard deviation", 
            "cell_type": "markdown", 
            "metadata": {}
        }, 
        {
            "execution_count": 16, 
            "cell_type": "code", 
            "metadata": {}, 
            "outputs": [
                {
                    "execution_count": 16, 
                    "metadata": {}, 
                    "data": {
                        "text/html": "<div>\n<style scoped>\n    .dataframe tbody tr th:only-of-type {\n        vertical-align: middle;\n    }\n\n    .dataframe tbody tr th {\n        vertical-align: top;\n    }\n\n    .dataframe thead th {\n        text-align: right;\n    }\n</style>\n<table border=\"1\" class=\"dataframe\">\n  <thead>\n    <tr style=\"text-align: right;\">\n      <th></th>\n      <th>Cement</th>\n      <th>Blast Furnace Slag</th>\n      <th>Fly Ash</th>\n      <th>Water</th>\n      <th>Superplasticizer</th>\n      <th>Coarse Aggregate</th>\n      <th>Fine Aggregate</th>\n      <th>Age</th>\n    </tr>\n  </thead>\n  <tbody>\n    <tr>\n      <th>0</th>\n      <td>2.476712</td>\n      <td>-0.856472</td>\n      <td>-0.846733</td>\n      <td>-0.916319</td>\n      <td>-0.620147</td>\n      <td>0.862735</td>\n      <td>-1.217079</td>\n      <td>-0.279597</td>\n    </tr>\n    <tr>\n      <th>1</th>\n      <td>2.476712</td>\n      <td>-0.856472</td>\n      <td>-0.846733</td>\n      <td>-0.916319</td>\n      <td>-0.620147</td>\n      <td>1.055651</td>\n      <td>-1.217079</td>\n      <td>-0.279597</td>\n    </tr>\n    <tr>\n      <th>2</th>\n      <td>0.491187</td>\n      <td>0.795140</td>\n      <td>-0.846733</td>\n      <td>2.174405</td>\n      <td>-1.038638</td>\n      <td>-0.526262</td>\n      <td>-2.239829</td>\n      <td>3.551340</td>\n    </tr>\n    <tr>\n      <th>3</th>\n      <td>0.491187</td>\n      <td>0.795140</td>\n      <td>-0.846733</td>\n      <td>2.174405</td>\n      <td>-1.038638</td>\n      <td>-0.526262</td>\n      <td>-2.239829</td>\n      <td>5.055221</td>\n    </tr>\n    <tr>\n      <th>4</th>\n      <td>-0.790075</td>\n      <td>0.678079</td>\n      <td>-0.846733</td>\n      <td>0.488555</td>\n      <td>-1.038638</td>\n      <td>0.070492</td>\n      <td>0.647569</td>\n      <td>4.976069</td>\n    </tr>\n    <tr>\n      <th>5</th>\n      <td>-0.145138</td>\n      <td>0.464818</td>\n      <td>-0.846733</td>\n      <td>2.174405</td>\n      <td>-1.038638</td>\n      <td>-0.526262</td>\n      <td>-1.291914</td>\n      <td>0.701883</td>\n    </tr>\n    <tr>\n      <th>6</th>\n      <td>0.945704</td>\n      <td>0.244603</td>\n      <td>-0.846733</td>\n      <td>2.174405</td>\n      <td>-1.038638</td>\n      <td>-0.526262</td>\n      <td>-2.239829</td>\n      <td>5.055221</td>\n    </tr>\n    <tr>\n      <th>7</th>\n      <td>0.945704</td>\n      <td>0.244603</td>\n      <td>-0.846733</td>\n      <td>2.174405</td>\n      <td>-1.038638</td>\n      <td>-0.526262</td>\n      <td>-2.239829</td>\n      <td>-0.279597</td>\n    </tr>\n  </tbody>\n</table>\n</div>", 
                        "text/plain": "     Cement  Blast Furnace Slag   Fly Ash     Water  Superplasticizer  \\\n0  2.476712           -0.856472 -0.846733 -0.916319         -0.620147   \n1  2.476712           -0.856472 -0.846733 -0.916319         -0.620147   \n2  0.491187            0.795140 -0.846733  2.174405         -1.038638   \n3  0.491187            0.795140 -0.846733  2.174405         -1.038638   \n4 -0.790075            0.678079 -0.846733  0.488555         -1.038638   \n5 -0.145138            0.464818 -0.846733  2.174405         -1.038638   \n6  0.945704            0.244603 -0.846733  2.174405         -1.038638   \n7  0.945704            0.244603 -0.846733  2.174405         -1.038638   \n\n   Coarse Aggregate  Fine Aggregate       Age  \n0          0.862735       -1.217079 -0.279597  \n1          1.055651       -1.217079 -0.279597  \n2         -0.526262       -2.239829  3.551340  \n3         -0.526262       -2.239829  5.055221  \n4          0.070492        0.647569  4.976069  \n5         -0.526262       -1.291914  0.701883  \n6         -0.526262       -2.239829  5.055221  \n7         -0.526262       -2.239829 -0.279597  "
                    }, 
                    "output_type": "execute_result"
                }
            ], 
            "source": "predictors_norm = (predictors - predictors.mean()) / predictors.std()\npredictors_norm.head(8)"
        }, 
        {
            "source": "### Import keras", 
            "cell_type": "markdown", 
            "metadata": {}
        }, 
        {
            "execution_count": 17, 
            "cell_type": "code", 
            "metadata": {}, 
            "outputs": [
                {
                    "output_type": "stream", 
                    "name": "stderr", 
                    "text": "Using TensorFlow backend.\n"
                }
            ], 
            "source": "import keras"
        }, 
        {
            "execution_count": 18, 
            "cell_type": "code", 
            "metadata": {}, 
            "outputs": [], 
            "source": "# importing more packages from keras library\nfrom keras.models import Sequential\nfrom keras.layers import Dense"
        }, 
        {
            "source": "### Building a neural network", 
            "cell_type": "markdown", 
            "metadata": {}
        }, 
        {
            "execution_count": 22, 
            "cell_type": "code", 
            "metadata": {}, 
            "outputs": [
                {
                    "output_type": "stream", 
                    "name": "stdout", 
                    "text": "_________________________________________________________________\nLayer (type)                 Output Shape              Param #   \n=================================================================\ndense_1 (Dense)              (None, 50)                450       \n_________________________________________________________________\ndense_2 (Dense)              (None, 50)                2550      \n_________________________________________________________________\ndense_3 (Dense)              (None, 1)                 51        \n=================================================================\nTotal params: 3,051\nTrainable params: 3,051\nNon-trainable params: 0\n_________________________________________________________________\n"
                }
            ], 
            "source": "model = Sequential()\nmodel.add(Dense(50, activation='relu', input_shape=(predictors_norm.shape[1], )))\nmodel.add(Dense(50, activation='relu'))\nmodel.add(Dense(1))\nmodel.compile(optimizer='adam', loss='mean_squared_error')\nmodel.summary()"
        }, 
        {
            "execution_count": 24, 
            "cell_type": "code", 
            "metadata": {}, 
            "outputs": [
                {
                    "output_type": "stream", 
                    "name": "stdout", 
                    "text": "Train on 721 samples, validate on 309 samples\nEpoch 1/100\n - 0s - loss: 1492.4271 - val_loss: 991.9525\nEpoch 2/100\n - 0s - loss: 1258.6212 - val_loss: 785.5891\nEpoch 3/100\n - 0s - loss: 924.7010 - val_loss: 540.1082\nEpoch 4/100\n - 0s - loss: 561.9987 - val_loss: 321.1367\nEpoch 5/100\n - 0s - loss: 312.8468 - val_loss: 209.2205\nEpoch 6/100\n - 0s - loss: 233.9199 - val_loss: 178.4418\nEpoch 7/100\n - 0s - loss: 215.9875 - val_loss: 170.2796\nEpoch 8/100\n - 0s - loss: 205.5690 - val_loss: 164.9094\nEpoch 9/100\n - 0s - loss: 196.3473 - val_loss: 164.7826\nEpoch 10/100\n - 0s - loss: 189.5524 - val_loss: 161.2928\nEpoch 11/100\n - 0s - loss: 183.2977 - val_loss: 160.3400\nEpoch 12/100\n - 0s - loss: 177.7111 - val_loss: 159.1137\nEpoch 13/100\n - 0s - loss: 173.4108 - val_loss: 158.8340\nEpoch 14/100\n - 0s - loss: 169.2559 - val_loss: 157.6215\nEpoch 15/100\n - 0s - loss: 165.1248 - val_loss: 157.1987\nEpoch 16/100\n - 0s - loss: 161.4776 - val_loss: 155.3280\nEpoch 17/100\n - 0s - loss: 158.2193 - val_loss: 153.4995\nEpoch 18/100\n - 0s - loss: 155.5026 - val_loss: 153.3428\nEpoch 19/100\n - 0s - loss: 152.5137 - val_loss: 154.4314\nEpoch 20/100\n - 0s - loss: 150.2947 - val_loss: 153.5542\nEpoch 21/100\n - 0s - loss: 147.8385 - val_loss: 153.4022\nEpoch 22/100\n - 0s - loss: 145.7257 - val_loss: 155.5727\nEpoch 23/100\n - 0s - loss: 144.2228 - val_loss: 154.8774\nEpoch 24/100\n - 0s - loss: 141.9497 - val_loss: 156.7489\nEpoch 25/100\n - 0s - loss: 140.4908 - val_loss: 155.4790\nEpoch 26/100\n - 0s - loss: 138.5306 - val_loss: 155.5758\nEpoch 27/100\n - 0s - loss: 137.1213 - val_loss: 157.2928\nEpoch 28/100\n - 0s - loss: 135.3020 - val_loss: 156.7415\nEpoch 29/100\n - 0s - loss: 133.6531 - val_loss: 158.4125\nEpoch 30/100\n - 0s - loss: 132.3859 - val_loss: 159.1494\nEpoch 31/100\n - 0s - loss: 130.7876 - val_loss: 157.5921\nEpoch 32/100\n - 0s - loss: 129.2379 - val_loss: 158.4102\nEpoch 33/100\n - 0s - loss: 127.4643 - val_loss: 159.2437\nEpoch 34/100\n - 0s - loss: 126.3506 - val_loss: 163.4285\nEpoch 35/100\n - 0s - loss: 124.8808 - val_loss: 159.2814\nEpoch 36/100\n - 0s - loss: 122.8023 - val_loss: 159.5803\nEpoch 37/100\n - 0s - loss: 121.2344 - val_loss: 159.6677\nEpoch 38/100\n - 0s - loss: 119.4226 - val_loss: 159.5520\nEpoch 39/100\n - 0s - loss: 118.5407 - val_loss: 160.2296\nEpoch 40/100\n - 0s - loss: 116.0206 - val_loss: 161.3565\nEpoch 41/100\n - 0s - loss: 114.9610 - val_loss: 163.6035\nEpoch 42/100\n - 0s - loss: 113.2068 - val_loss: 159.5794\nEpoch 43/100\n - 0s - loss: 110.9032 - val_loss: 160.9154\nEpoch 44/100\n - 0s - loss: 109.4781 - val_loss: 159.5656\nEpoch 45/100\n - 0s - loss: 107.7241 - val_loss: 160.8320\nEpoch 46/100\n - 0s - loss: 105.3514 - val_loss: 161.5900\nEpoch 47/100\n - 0s - loss: 103.5159 - val_loss: 158.7355\nEpoch 48/100\n - 0s - loss: 101.6230 - val_loss: 162.4339\nEpoch 49/100\n - 0s - loss: 98.9640 - val_loss: 158.1562\nEpoch 50/100\n - 0s - loss: 97.0377 - val_loss: 155.0949\nEpoch 51/100\n - 0s - loss: 94.2734 - val_loss: 163.4540\nEpoch 52/100\n - 0s - loss: 92.6826 - val_loss: 151.8803\nEpoch 53/100\n - 0s - loss: 90.0191 - val_loss: 164.2852\nEpoch 54/100\n - 0s - loss: 86.7490 - val_loss: 154.0232\nEpoch 55/100\n - 0s - loss: 84.0628 - val_loss: 156.8394\nEpoch 56/100\n - 0s - loss: 81.4529 - val_loss: 152.1506\nEpoch 57/100\n - 0s - loss: 78.9261 - val_loss: 156.9926\nEpoch 58/100\n - 0s - loss: 77.6827 - val_loss: 153.5804\nEpoch 59/100\n - 0s - loss: 75.2590 - val_loss: 157.0660\nEpoch 60/100\n - 0s - loss: 73.0607 - val_loss: 156.9248\nEpoch 61/100\n - 0s - loss: 70.6856 - val_loss: 151.5830\nEpoch 62/100\n - 0s - loss: 68.1047 - val_loss: 153.8414\nEpoch 63/100\n - 0s - loss: 66.1949 - val_loss: 156.3213\nEpoch 64/100\n - 0s - loss: 65.0688 - val_loss: 154.9015\nEpoch 65/100\n - 0s - loss: 62.9392 - val_loss: 148.6043\nEpoch 66/100\n - 0s - loss: 61.3893 - val_loss: 153.0469\nEpoch 67/100\n - 0s - loss: 59.5209 - val_loss: 153.0286\nEpoch 68/100\n - 0s - loss: 57.6211 - val_loss: 150.0562\nEpoch 69/100\n - 0s - loss: 56.9288 - val_loss: 148.7529\nEpoch 70/100\n - 0s - loss: 55.0018 - val_loss: 153.0589\nEpoch 71/100\n - 0s - loss: 53.9008 - val_loss: 145.4946\nEpoch 72/100\n - 0s - loss: 52.4618 - val_loss: 153.5312\nEpoch 73/100\n - 0s - loss: 51.8708 - val_loss: 148.7163\nEpoch 74/100\n - 0s - loss: 50.7826 - val_loss: 145.3612\nEpoch 75/100\n - 0s - loss: 49.3518 - val_loss: 156.8143\nEpoch 76/100\n - 0s - loss: 48.8976 - val_loss: 145.6547\nEpoch 77/100\n - 0s - loss: 47.7310 - val_loss: 149.4715\nEpoch 78/100\n - 0s - loss: 46.5157 - val_loss: 162.8446\nEpoch 79/100\n - 0s - loss: 46.1244 - val_loss: 149.1482\nEpoch 80/100\n - 0s - loss: 44.9716 - val_loss: 150.9186\nEpoch 81/100\n - 0s - loss: 44.1776 - val_loss: 158.7502\nEpoch 82/100\n - 0s - loss: 43.3682 - val_loss: 149.0112\nEpoch 83/100\n - 0s - loss: 42.6863 - val_loss: 144.5682\nEpoch 84/100\n - 0s - loss: 43.4711 - val_loss: 150.4272\nEpoch 85/100\n - 0s - loss: 41.4389 - val_loss: 150.3773\nEpoch 86/100\n - 0s - loss: 41.0635 - val_loss: 153.6329\nEpoch 87/100\n - 0s - loss: 40.3479 - val_loss: 153.2787\nEpoch 88/100\n - 0s - loss: 39.5666 - val_loss: 149.3355\nEpoch 89/100\n - 0s - loss: 39.2267 - val_loss: 152.5066\nEpoch 90/100\n - 0s - loss: 38.6172 - val_loss: 151.5194\nEpoch 91/100\n - 0s - loss: 38.2269 - val_loss: 161.3429\nEpoch 92/100\n - 0s - loss: 38.0722 - val_loss: 162.6147\nEpoch 93/100\n - 0s - loss: 38.4729 - val_loss: 150.6491\nEpoch 94/100\n - 0s - loss: 36.7434 - val_loss: 166.0293\nEpoch 95/100\n - 0s - loss: 36.7526 - val_loss: 151.0758\nEpoch 96/100\n - 0s - loss: 36.1307 - val_loss: 154.8355\nEpoch 97/100\n - 0s - loss: 35.8558 - val_loss: 167.4196\nEpoch 98/100\n - 0s - loss: 35.6765 - val_loss: 157.7122\nEpoch 99/100\n - 0s - loss: 35.4518 - val_loss: 153.4161\nEpoch 100/100\n - 0s - loss: 34.9526 - val_loss: 173.1526\n"
                }, 
                {
                    "execution_count": 24, 
                    "metadata": {}, 
                    "data": {
                        "text/plain": "<keras.callbacks.History at 0x7f2d9736bcc0>"
                    }, 
                    "output_type": "execute_result"
                }
            ], 
            "source": "## fitting the model\nmodel.fit(predictors_norm, target, validation_split=0.3, epochs=100, verbose=2)"
        }, 
        {
            "execution_count": null, 
            "cell_type": "code", 
            "metadata": {}, 
            "outputs": [], 
            "source": ""
        }
    ], 
    "metadata": {
        "kernelspec": {
            "display_name": "Python 3.5", 
            "name": "python3", 
            "language": "python"
        }, 
        "language_info": {
            "mimetype": "text/x-python", 
            "nbconvert_exporter": "python", 
            "version": "3.5.5", 
            "name": "python", 
            "file_extension": ".py", 
            "pygments_lexer": "ipython3", 
            "codemirror_mode": {
                "version": 3, 
                "name": "ipython"
            }
        }
    }, 
    "nbformat": 4
}